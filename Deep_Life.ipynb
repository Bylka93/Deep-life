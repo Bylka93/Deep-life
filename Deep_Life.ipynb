{
  "nbformat": 4,
  "nbformat_minor": 0,
  "metadata": {
    "colab": {
      "name": "Deep Life.ipynb",
      "version": "0.3.2",
      "provenance": []
    },
    "kernelspec": {
      "name": "python3",
      "display_name": "Python 3"
    }
  },
  "cells": [
    {
      "metadata": {
        "id": "p7JD-kD9jWJt",
        "colab_type": "code",
        "outputId": "a423b969-9fe9-4dca-a73b-1039dce8009e",
        "colab": {
          "base_uri": "https://localhost:8080/",
          "height": 35
        }
      },
      "cell_type": "code",
      "source": [
        "from __future__ import absolute_import, division, print_function\n",
        "\n",
        "import tensorflow as tf\n",
        "from tensorflow import keras\n",
        "\n",
        "import numpy as np\n",
        "\n",
        "print(tf.__version__)\n"
      ],
      "execution_count": 2,
      "outputs": [
        {
          "output_type": "stream",
          "text": [
            "1.13.0-rc2\n"
          ],
          "name": "stdout"
        }
      ]
    },
    {
      "metadata": {
        "id": "YkauHUNM5XOS",
        "colab_type": "code",
        "colab": {
          "base_uri": "https://localhost:8080/",
          "height": 35
        },
        "outputId": "19d72147-68ff-42aa-ae3c-a3ba9ff87881"
      },
      "cell_type": "code",
      "source": [
        "imdb = keras.datasets.imdb\n",
        "\n",
        "(train_data, train_labels), (test_data, test_labels) = imdb.load_data(num_words=10000)\n",
        "print(\"Training entries: {}, labels: {}\".format(len(train_data), len(train_labels)))\n",
        "\n"
      ],
      "execution_count": 5,
      "outputs": [
        {
          "output_type": "stream",
          "text": [
            "Training entries: 25000, labels: 25000\n"
          ],
          "name": "stdout"
        }
      ]
    },
    {
      "metadata": {
        "id": "NtD8hKJN6KNs",
        "colab_type": "code",
        "colab": {
          "base_uri": "https://localhost:8080/",
          "height": 55
        },
        "outputId": "e589d9d8-f9be-47b2-e1d5-df951b74a4e3"
      },
      "cell_type": "code",
      "source": [
        "print(train_data[0])\n"
      ],
      "execution_count": 6,
      "outputs": [
        {
          "output_type": "stream",
          "text": [
            "[1, 14, 22, 16, 43, 530, 973, 1622, 1385, 65, 458, 4468, 66, 3941, 4, 173, 36, 256, 5, 25, 100, 43, 838, 112, 50, 670, 2, 9, 35, 480, 284, 5, 150, 4, 172, 112, 167, 2, 336, 385, 39, 4, 172, 4536, 1111, 17, 546, 38, 13, 447, 4, 192, 50, 16, 6, 147, 2025, 19, 14, 22, 4, 1920, 4613, 469, 4, 22, 71, 87, 12, 16, 43, 530, 38, 76, 15, 13, 1247, 4, 22, 17, 515, 17, 12, 16, 626, 18, 2, 5, 62, 386, 12, 8, 316, 8, 106, 5, 4, 2223, 5244, 16, 480, 66, 3785, 33, 4, 130, 12, 16, 38, 619, 5, 25, 124, 51, 36, 135, 48, 25, 1415, 33, 6, 22, 12, 215, 28, 77, 52, 5, 14, 407, 16, 82, 2, 8, 4, 107, 117, 5952, 15, 256, 4, 2, 7, 3766, 5, 723, 36, 71, 43, 530, 476, 26, 400, 317, 46, 7, 4, 2, 1029, 13, 104, 88, 4, 381, 15, 297, 98, 32, 2071, 56, 26, 141, 6, 194, 7486, 18, 4, 226, 22, 21, 134, 476, 26, 480, 5, 144, 30, 5535, 18, 51, 36, 28, 224, 92, 25, 104, 4, 226, 65, 16, 38, 1334, 88, 12, 16, 283, 5, 16, 4472, 113, 103, 32, 15, 16, 5345, 19, 178, 32]\n"
          ],
          "name": "stdout"
        }
      ]
    },
    {
      "metadata": {
        "id": "9zrSIeph6Ku4",
        "colab_type": "code",
        "colab": {
          "base_uri": "https://localhost:8080/",
          "height": 54
        },
        "outputId": "7b8e3973-a0ee-4d89-a171-091ccfb4cae5"
      },
      "cell_type": "code",
      "source": [
        "#lets try to convert the integers back to words \n",
        "# A dictionary mapping words to an integer index\n",
        "word_index = imdb.get_word_index()\n",
        "\n",
        "# The first indices are reserved\n",
        "word_index = {k:(v+3) for k,v in word_index.items()} \n",
        "word_index[\"<PAD>\"] = 0\n",
        "word_index[\"<START>\"] = 1\n",
        "word_index[\"<UNK>\"] = 2  # unknown\n",
        "word_index[\"<UNUSED>\"] = 3\n",
        "\n",
        "reverse_word_index = dict([(value, key) for (key, value) in word_index.items()])\n",
        "\n",
        "def decode_review(text):\n",
        "    return ' '.join([reverse_word_index.get(i, '?') for i in text])\n"
      ],
      "execution_count": 7,
      "outputs": [
        {
          "output_type": "stream",
          "text": [
            "Downloading data from https://storage.googleapis.com/tensorflow/tf-keras-datasets/imdb_word_index.json\n",
            "1646592/1641221 [==============================] - 0s 0us/step\n"
          ],
          "name": "stdout"
        }
      ]
    },
    {
      "metadata": {
        "id": "9A11n2t-7xpG",
        "colab_type": "code",
        "colab": {
          "base_uri": "https://localhost:8080/",
          "height": 55
        },
        "outputId": "e379e3cf-0265-485d-f384-0c7a928d5ddd"
      },
      "cell_type": "code",
      "source": [
        "decode_review(train_data[0])\n"
      ],
      "execution_count": 8,
      "outputs": [
        {
          "output_type": "execute_result",
          "data": {
            "text/plain": [
              "\"<START> this film was just brilliant casting location scenery story direction everyone's really suited the part they played and you could just imagine being there robert <UNK> is an amazing actor and now the same being director <UNK> father came from the same scottish island as myself so i loved the fact there was a real connection with this film the witty remarks throughout the film were great it was just brilliant so much that i bought the film as soon as it was released for <UNK> and would recommend it to everyone to watch and the fly fishing was amazing really cried at the end it was so sad and you know what they say if you cry at a film it must have been good and this definitely was also <UNK> to the two little boy's that played the <UNK> of norman and paul they were just brilliant children are often left out of the <UNK> list i think because the stars that play them all grown up are such a big profile for the whole film but these children are amazing and should be praised for what they have done don't you think the whole story was so lovely because it was true and was someone's life after all that was shared with us all\""
            ]
          },
          "metadata": {
            "tags": []
          },
          "execution_count": 8
        }
      ]
    },
    {
      "metadata": {
        "id": "34MUEV047yRC",
        "colab_type": "code",
        "colab": {}
      },
      "cell_type": "code",
      "source": [
        "train_data = keras.preprocessing.sequence.pad_sequences(train_data,\n",
        "                                                        value=word_index[\"<PAD>\"],\n",
        "                                                        padding='post',\n",
        "                                                        maxlen=256)\n",
        "\n",
        "test_data = keras.preprocessing.sequence.pad_sequences(test_data,\n",
        "                                                       value=word_index[\"<PAD>\"],\n",
        "                                                       padding='post',\n",
        "                                                       maxlen=256)\n"
      ],
      "execution_count": 0,
      "outputs": []
    },
    {
      "metadata": {
        "id": "x6ro-rl18MqI",
        "colab_type": "code",
        "colab": {
          "base_uri": "https://localhost:8080/",
          "height": 35
        },
        "outputId": "ceb2742a-70c1-4dc0-83a9-df0801a616d0"
      },
      "cell_type": "code",
      "source": [
        "len(train_data[0]), len(train_data[1])\n"
      ],
      "execution_count": 10,
      "outputs": [
        {
          "output_type": "execute_result",
          "data": {
            "text/plain": [
              "(256, 256)"
            ]
          },
          "metadata": {
            "tags": []
          },
          "execution_count": 10
        }
      ]
    },
    {
      "metadata": {
        "id": "ffhjkDaJ8XO0",
        "colab_type": "code",
        "colab": {}
      },
      "cell_type": "code",
      "source": [
        "#lets build the model "
      ],
      "execution_count": 0,
      "outputs": []
    },
    {
      "metadata": {
        "id": "kENE-GQu8fXQ",
        "colab_type": "code",
        "colab": {
          "base_uri": "https://localhost:8080/",
          "height": 368
        },
        "outputId": "aefd9d1a-e534-4e9c-fce7-ee3377d89ed5"
      },
      "cell_type": "code",
      "source": [
        "# input shape is the vocabulary count used for the movie reviews (10,000 words)\n",
        "vocab_size = 10000\n",
        "\n",
        "model = keras.Sequential()\n",
        "model.add(keras.layers.Embedding(vocab_size, 16))\n",
        "model.add(keras.layers.GlobalAveragePooling1D())\n",
        "model.add(keras.layers.Dense(16, activation=tf.nn.relu))\n",
        "model.add(keras.layers.Dense(1, activation=tf.nn.sigmoid))\n",
        "\n",
        "model.summary()\n"
      ],
      "execution_count": 12,
      "outputs": [
        {
          "output_type": "stream",
          "text": [
            "WARNING:tensorflow:From /usr/local/lib/python3.6/dist-packages/tensorflow/python/ops/resource_variable_ops.py:435: colocate_with (from tensorflow.python.framework.ops) is deprecated and will be removed in a future version.\n",
            "Instructions for updating:\n",
            "Colocations handled automatically by placer.\n",
            "_________________________________________________________________\n",
            "Layer (type)                 Output Shape              Param #   \n",
            "=================================================================\n",
            "embedding (Embedding)        (None, None, 16)          160000    \n",
            "_________________________________________________________________\n",
            "global_average_pooling1d (Gl (None, 16)                0         \n",
            "_________________________________________________________________\n",
            "dense (Dense)                (None, 16)                272       \n",
            "_________________________________________________________________\n",
            "dense_1 (Dense)              (None, 1)                 17        \n",
            "=================================================================\n",
            "Total params: 160,289\n",
            "Trainable params: 160,289\n",
            "Non-trainable params: 0\n",
            "_________________________________________________________________\n"
          ],
          "name": "stdout"
        }
      ]
    },
    {
      "metadata": {
        "id": "xz9I2t7b8gDr",
        "colab_type": "code",
        "colab": {}
      },
      "cell_type": "code",
      "source": [
        "model.compile(optimizer='adam',\n",
        "              loss='binary_crossentropy',\n",
        "              metrics=['accuracy'])\n"
      ],
      "execution_count": 0,
      "outputs": []
    },
    {
      "metadata": {
        "id": "T38zcvzPCYYB",
        "colab_type": "code",
        "colab": {}
      },
      "cell_type": "code",
      "source": [
        "x_val = train_data[:10000]\n",
        "partial_x_train = train_data[10000:]\n",
        "\n",
        "y_val = train_labels[:10000]\n",
        "partial_y_train = train_labels[10000:]\n"
      ],
      "execution_count": 0,
      "outputs": []
    },
    {
      "metadata": {
        "id": "bArscCHaCcV7",
        "colab_type": "code",
        "colab": {
          "base_uri": "https://localhost:8080/",
          "height": 1580
        },
        "outputId": "7fb04d9e-6bdd-4332-f008-1509c54ebcb5"
      },
      "cell_type": "code",
      "source": [
        "history = model.fit(partial_x_train,\n",
        "                    partial_y_train,\n",
        "                    epochs=40,\n",
        "                    batch_size=512,\n",
        "                    validation_data=(x_val, y_val),\n",
        "                    verbose=1)\n"
      ],
      "execution_count": 15,
      "outputs": [
        {
          "output_type": "stream",
          "text": [
            "Train on 15000 samples, validate on 10000 samples\n",
            "WARNING:tensorflow:From /usr/local/lib/python3.6/dist-packages/tensorflow/python/ops/math_ops.py:3066: to_int32 (from tensorflow.python.ops.math_ops) is deprecated and will be removed in a future version.\n",
            "Instructions for updating:\n",
            "Use tf.cast instead.\n",
            "Epoch 1/40\n",
            "15000/15000 [==============================] - 1s 64us/sample - loss: 0.6917 - acc: 0.5368 - val_loss: 0.6896 - val_acc: 0.5973\n",
            "Epoch 2/40\n",
            "15000/15000 [==============================] - 1s 54us/sample - loss: 0.6852 - acc: 0.6746 - val_loss: 0.6807 - val_acc: 0.6920\n",
            "Epoch 3/40\n",
            "15000/15000 [==============================] - 1s 47us/sample - loss: 0.6712 - acc: 0.7300 - val_loss: 0.6634 - val_acc: 0.7469\n",
            "Epoch 4/40\n",
            "15000/15000 [==============================] - 1s 49us/sample - loss: 0.6473 - acc: 0.7530 - val_loss: 0.6365 - val_acc: 0.7673\n",
            "Epoch 5/40\n",
            "15000/15000 [==============================] - 1s 46us/sample - loss: 0.6131 - acc: 0.7891 - val_loss: 0.6013 - val_acc: 0.7879\n",
            "Epoch 6/40\n",
            "15000/15000 [==============================] - 1s 47us/sample - loss: 0.5707 - acc: 0.8119 - val_loss: 0.5610 - val_acc: 0.8027\n",
            "Epoch 7/40\n",
            "15000/15000 [==============================] - 1s 47us/sample - loss: 0.5241 - acc: 0.8299 - val_loss: 0.5173 - val_acc: 0.8221\n",
            "Epoch 8/40\n",
            "15000/15000 [==============================] - 1s 48us/sample - loss: 0.4774 - acc: 0.8491 - val_loss: 0.4766 - val_acc: 0.8340\n",
            "Epoch 9/40\n",
            "15000/15000 [==============================] - 1s 48us/sample - loss: 0.4335 - acc: 0.8615 - val_loss: 0.4396 - val_acc: 0.8444\n",
            "Epoch 10/40\n",
            "15000/15000 [==============================] - 1s 46us/sample - loss: 0.3943 - acc: 0.8747 - val_loss: 0.4091 - val_acc: 0.8519\n",
            "Epoch 11/40\n",
            "15000/15000 [==============================] - 1s 48us/sample - loss: 0.3612 - acc: 0.8825 - val_loss: 0.3838 - val_acc: 0.8589\n",
            "Epoch 12/40\n",
            "15000/15000 [==============================] - 1s 48us/sample - loss: 0.3334 - acc: 0.8901 - val_loss: 0.3647 - val_acc: 0.8629\n",
            "Epoch 13/40\n",
            "15000/15000 [==============================] - 1s 47us/sample - loss: 0.3106 - acc: 0.8964 - val_loss: 0.3477 - val_acc: 0.8690\n",
            "Epoch 14/40\n",
            "15000/15000 [==============================] - 1s 47us/sample - loss: 0.2902 - acc: 0.9011 - val_loss: 0.3354 - val_acc: 0.8725\n",
            "Epoch 15/40\n",
            "15000/15000 [==============================] - 1s 48us/sample - loss: 0.2732 - acc: 0.9067 - val_loss: 0.3252 - val_acc: 0.8740\n",
            "Epoch 16/40\n",
            "15000/15000 [==============================] - 1s 46us/sample - loss: 0.2579 - acc: 0.9119 - val_loss: 0.3168 - val_acc: 0.8756\n",
            "Epoch 17/40\n",
            "15000/15000 [==============================] - 1s 47us/sample - loss: 0.2439 - acc: 0.9163 - val_loss: 0.3099 - val_acc: 0.8786\n",
            "Epoch 18/40\n",
            "15000/15000 [==============================] - 1s 47us/sample - loss: 0.2314 - acc: 0.9210 - val_loss: 0.3039 - val_acc: 0.8800\n",
            "Epoch 19/40\n",
            "15000/15000 [==============================] - 1s 48us/sample - loss: 0.2202 - acc: 0.9235 - val_loss: 0.2990 - val_acc: 0.8817\n",
            "Epoch 20/40\n",
            "15000/15000 [==============================] - 1s 48us/sample - loss: 0.2101 - acc: 0.9273 - val_loss: 0.2957 - val_acc: 0.8810\n",
            "Epoch 21/40\n",
            "15000/15000 [==============================] - 1s 48us/sample - loss: 0.1998 - acc: 0.9328 - val_loss: 0.2928 - val_acc: 0.8831\n",
            "Epoch 22/40\n",
            "15000/15000 [==============================] - 1s 47us/sample - loss: 0.1912 - acc: 0.9355 - val_loss: 0.2902 - val_acc: 0.8840\n",
            "Epoch 23/40\n",
            "15000/15000 [==============================] - 1s 47us/sample - loss: 0.1825 - acc: 0.9399 - val_loss: 0.2894 - val_acc: 0.8835\n",
            "Epoch 24/40\n",
            "15000/15000 [==============================] - 1s 47us/sample - loss: 0.1750 - acc: 0.9434 - val_loss: 0.2879 - val_acc: 0.8851\n",
            "Epoch 25/40\n",
            "15000/15000 [==============================] - 1s 47us/sample - loss: 0.1673 - acc: 0.9467 - val_loss: 0.2864 - val_acc: 0.8849\n",
            "Epoch 26/40\n",
            "15000/15000 [==============================] - 1s 47us/sample - loss: 0.1605 - acc: 0.9488 - val_loss: 0.2871 - val_acc: 0.8830\n",
            "Epoch 27/40\n",
            "15000/15000 [==============================] - 1s 47us/sample - loss: 0.1540 - acc: 0.9517 - val_loss: 0.2866 - val_acc: 0.8843\n",
            "Epoch 28/40\n",
            "15000/15000 [==============================] - 1s 47us/sample - loss: 0.1478 - acc: 0.9548 - val_loss: 0.2873 - val_acc: 0.8856\n",
            "Epoch 29/40\n",
            "15000/15000 [==============================] - 1s 46us/sample - loss: 0.1423 - acc: 0.9577 - val_loss: 0.2889 - val_acc: 0.8836\n",
            "Epoch 30/40\n",
            "15000/15000 [==============================] - 1s 45us/sample - loss: 0.1366 - acc: 0.9587 - val_loss: 0.2884 - val_acc: 0.8856\n",
            "Epoch 31/40\n",
            "15000/15000 [==============================] - 1s 46us/sample - loss: 0.1308 - acc: 0.9612 - val_loss: 0.2895 - val_acc: 0.8861\n",
            "Epoch 32/40\n",
            "15000/15000 [==============================] - 1s 47us/sample - loss: 0.1257 - acc: 0.9643 - val_loss: 0.2910 - val_acc: 0.8859\n",
            "Epoch 33/40\n",
            "15000/15000 [==============================] - 1s 47us/sample - loss: 0.1207 - acc: 0.9660 - val_loss: 0.2934 - val_acc: 0.8857\n",
            "Epoch 34/40\n",
            "15000/15000 [==============================] - 1s 47us/sample - loss: 0.1162 - acc: 0.9673 - val_loss: 0.2957 - val_acc: 0.8855\n",
            "Epoch 35/40\n",
            "15000/15000 [==============================] - 1s 46us/sample - loss: 0.1120 - acc: 0.9679 - val_loss: 0.2982 - val_acc: 0.8856\n",
            "Epoch 36/40\n",
            "15000/15000 [==============================] - 1s 46us/sample - loss: 0.1076 - acc: 0.9705 - val_loss: 0.3000 - val_acc: 0.8843\n",
            "Epoch 37/40\n",
            "15000/15000 [==============================] - 1s 45us/sample - loss: 0.1033 - acc: 0.9717 - val_loss: 0.3028 - val_acc: 0.8835\n",
            "Epoch 38/40\n",
            "15000/15000 [==============================] - 1s 47us/sample - loss: 0.0993 - acc: 0.9730 - val_loss: 0.3064 - val_acc: 0.8825\n",
            "Epoch 39/40\n",
            "15000/15000 [==============================] - 1s 45us/sample - loss: 0.0961 - acc: 0.9744 - val_loss: 0.3101 - val_acc: 0.8822\n",
            "Epoch 40/40\n",
            "15000/15000 [==============================] - 1s 45us/sample - loss: 0.0920 - acc: 0.9762 - val_loss: 0.3132 - val_acc: 0.8828\n"
          ],
          "name": "stdout"
        }
      ]
    },
    {
      "metadata": {
        "id": "Ir0H8iqhCkcS",
        "colab_type": "code",
        "colab": {
          "base_uri": "https://localhost:8080/",
          "height": 54
        },
        "outputId": "4f322969-60e2-4cb2-bced-ca4e3173bb4f"
      },
      "cell_type": "code",
      "source": [
        "results = model.evaluate(test_data, test_labels)\n",
        "\n",
        "print(results)\n"
      ],
      "execution_count": 16,
      "outputs": [
        {
          "output_type": "stream",
          "text": [
            "25000/25000 [==============================] - 1s 36us/sample - loss: 0.3344 - acc: 0.8705\n",
            "[0.3343864467811584, 0.87048]\n"
          ],
          "name": "stdout"
        }
      ]
    },
    {
      "metadata": {
        "id": "NwX1PJVhCuld",
        "colab_type": "code",
        "colab": {}
      },
      "cell_type": "code",
      "source": [
        ""
      ],
      "execution_count": 0,
      "outputs": []
    }
  ]
}